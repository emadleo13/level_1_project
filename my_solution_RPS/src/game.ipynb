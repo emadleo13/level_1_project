{
 "cells": [
  {
   "cell_type": "markdown",
   "id": "147ff209",
   "metadata": {},
   "source": [
    "- get player choice\n",
    "- get computer choice\n",
    "- get winner\n",
    "- print winner\n",
    "- play again?\n"
   ]
  },
  {
   "cell_type": "code",
   "execution_count": 39,
   "id": "e0e2418d",
   "metadata": {},
   "outputs": [],
   "source": [
    "import random\n",
    "\n",
    "\n",
    "class RockPaperScissors:\n",
    "    def __init__(self, name):\n",
    "        self.choices = ['rock', 'paper', 'scissors']\n",
    "        self.player_name = name\n",
    "        self.score = 0\n",
    "        \n",
    "    def get_player_choice(self):\n",
    "        user_choice = input(f\"Enter your choice ({self.choices}):\")\n",
    "        print(user_choice)\n",
    "        if user_choice.lower() in self.choices:\n",
    "            return user_choice.lower()\n",
    "        \n",
    "        print(f\"invalid choice, you must select from {self.choices}. \")\n",
    "        return self.get_player_choice()\n",
    "        \n",
    "        \n",
    "    def get_computer_choice(self):\n",
    "        return random.choice(self.choices)\n",
    "\n",
    "    def score(self):\n",
    "        self.score = 0\n",
    "        return self.score()\n",
    "    def decide_winner(self, user_choice, computer_choice):\n",
    "        if user_choice == computer_choice:\n",
    "            return \"play is Tie\"\n",
    "        win_combination = [(\"rock\", \"scissors\"), (\"paper\", \"rock\", \"scissors\",\"paper\")]\n",
    "        for win_comb in win_combination:\n",
    "            if (user_choice == win_comb[0]) & (computer_choice == win_comb[1]):\n",
    "                print(f\"score is {self.score}\")\n",
    "                self.score += 1\n",
    "                return \"Congratulation, You won!\"\n",
    "            else:\n",
    "                self.score -= 1\n",
    "        return \"Oh, no! the computer won!\"\n",
    "        self.score += 1\n",
    "    \n",
    "    # get player_choice\n",
    "    # get computer_choice\n",
    "    # decide_winner\n",
    "    # play\n",
    "    def play(self):\n",
    "        user_choice = self.get_player_choice()\n",
    "        computer_choice = self.get_computer_choice()\n",
    "        print(f\"Computer choice : {computer_choice} \")\n",
    "        print(self.decide_winner(user_choice, computer_choice))\n",
    "        \n",
    "        \n",
    "        \n",
    "    "
   ]
  },
  {
   "cell_type": "code",
   "execution_count": 40,
   "id": "7615f379",
   "metadata": {},
   "outputs": [
    {
     "name": "stdout",
     "output_type": "stream",
     "text": [
      "rock\n",
      "Computer choice : paper \n",
      "Oh, no! the computer won!\n",
      "\n",
      "invalid choice, you must select from ['rock', 'paper', 'scissors']. \n",
      "rock\n",
      "Computer choice : scissors \n",
      "score is -2\n",
      "Congratulation, You won!\n",
      "rock\n",
      "Computer choice : scissors \n",
      "score is -1\n",
      "Congratulation, You won!\n",
      "Goodbye!!!\n"
     ]
    }
   ],
   "source": [
    "game = RockPaperScissors(\"Karo\")\n",
    "while True:\n",
    "    game.play()\n",
    "    \n",
    "    continue_game = input(\"Do you want to play again? Enter any key to play, Enter q/Q to exit\")\n",
    "    if continue_game.lower()== \"q\":\n",
    "        print(\"Goodbye!!!\")\n",
    "        break"
   ]
  }
 ],
 "metadata": {
  "kernelspec": {
   "display_name": "new-env",
   "language": "python",
   "name": "python3"
  },
  "language_info": {
   "codemirror_mode": {
    "name": "ipython",
    "version": 3
   },
   "file_extension": ".py",
   "mimetype": "text/x-python",
   "name": "python",
   "nbconvert_exporter": "python",
   "pygments_lexer": "ipython3",
   "version": "3.10.18"
  }
 },
 "nbformat": 4,
 "nbformat_minor": 5
}
