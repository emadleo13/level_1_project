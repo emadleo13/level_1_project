{
 "cells": [
  {
   "cell_type": "code",
   "execution_count": 2,
   "id": "3f5ee3f5",
   "metadata": {},
   "outputs": [
    {
     "ename": "ModuleNotFoundError",
     "evalue": "No module named 'game_logic'",
     "output_type": "error",
     "traceback": [
      "\u001b[0;31m---------------------------------------------------------------------------\u001b[0m",
      "\u001b[0;31mModuleNotFoundError\u001b[0m                       Traceback (most recent call last)",
      "Cell \u001b[0;32mIn[2], line 1\u001b[0m\n\u001b[0;32m----> 1\u001b[0m \u001b[38;5;28;01mfrom\u001b[39;00m\u001b[38;5;250m \u001b[39m\u001b[38;5;21;01mgame_logic\u001b[39;00m\u001b[38;5;21;01m.\u001b[39;00m\u001b[38;5;21;01mnumber_generat\u001b[39;00m\u001b[38;5;250m \u001b[39m\u001b[38;5;28;01mimport\u001b[39;00m generate_random_number\n\u001b[1;32m      2\u001b[0m \u001b[38;5;28;01mfrom\u001b[39;00m\u001b[38;5;250m \u001b[39m\u001b[38;5;21;01mgame_logic\u001b[39;00m\u001b[38;5;21;01m.\u001b[39;00m\u001b[38;5;21;01mhint_generat\u001b[39;00m\u001b[38;5;250m \u001b[39m\u001b[38;5;28;01mimport\u001b[39;00m provide_hint\n\u001b[1;32m      3\u001b[0m \u001b[38;5;28;01mfrom\u001b[39;00m\u001b[38;5;250m \u001b[39m\u001b[38;5;21;01mgame_logic\u001b[39;00m\u001b[38;5;21;01m.\u001b[39;00m\u001b[38;5;21;01mscorer\u001b[39;00m\u001b[38;5;250m \u001b[39m\u001b[38;5;28;01mimport\u001b[39;00m Scorer\n",
      "\u001b[0;31mModuleNotFoundError\u001b[0m: No module named 'game_logic'"
     ]
    }
   ],
   "source": [
    "from game_logic.number_generat import generate_random_number\n",
    "from game_logic.hint_generat import provide_hint\n",
    "from game_logic.scorer import Scorer\n",
    "from utils.input_validat import get_valid_input\n",
    "\n",
    "def main():\n",
    "    number_to_guess = generate_random_number(1, 101)\n",
    "    scorer = Scorer()\n",
    "    \n",
    "\n",
    "while True:\n",
    "    guess = get_valid_input(\"Enter your number guess: \", 1, 101)\n",
    "    if guess == number_to_guess:\n",
    "        print(f\"Congratulation! your final score is: {scorer.get_score()}\")\n",
    "        break\n",
    "    else:\n",
    "        hint = provide_hint(guess, number_to_guess)\n",
    "        print(hint)\n",
    "        scorer.decrement_score()\n",
    "        \n",
    "\n",
    "if __name__ == \"__main__\":\n",
    "    main()\n",
    "    print(\"Welcome to the Number Guessing Game!\")\n",
    "    "
   ]
  }
 ],
 "metadata": {
  "kernelspec": {
   "display_name": "new-env",
   "language": "python",
   "name": "python3"
  },
  "language_info": {
   "codemirror_mode": {
    "name": "ipython",
    "version": 3
   },
   "file_extension": ".py",
   "mimetype": "text/x-python",
   "name": "python",
   "nbconvert_exporter": "python",
   "pygments_lexer": "ipython3",
   "version": "3.10.18"
  }
 },
 "nbformat": 4,
 "nbformat_minor": 5
}
